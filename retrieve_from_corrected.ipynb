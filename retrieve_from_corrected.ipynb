{
 "cells": [
  {
   "cell_type": "markdown",
   "id": "0c70a10a-33fd-4dc9-8598-9b22a363e2d0",
   "metadata": {
    "tags": []
   },
   "source": [
    "## Saving corrected xlsx files to jnl files for upload"
   ]
  },
  {
   "cell_type": "code",
   "execution_count": 5,
   "id": "7f44377b-5424-4376-a1ab-a0f0d024ffe3",
   "metadata": {},
   "outputs": [
    {
     "name": "stdout",
     "output_type": "stream",
     "text": [
      "[]\n"
     ]
    }
   ],
   "source": [
    "import os\n",
    "import pandas as pd\n",
    "import re\n",
    "\n",
    "saved_path = \"C:/Users/Civic Homes/Desktop/Jobs/corrected_jnl_files/\"\n",
    "saved_path_final = \"G:/My Drive/ESTIMATOR/Journal_Entry/final_jnl_files/\"\n",
    "path = \"G:/My Drive/ESTIMATOR/Journal_Entry/checked_corrected_jnl/\"\n",
    "list_dir = os.listdir(path)\n",
    "print(list_dir)\n",
    "for file in list_dir:\n",
    "    if file == 'desktop.ini':\n",
    "        continue\n",
    "    \n",
    "    df = pd.read_excel(path + file)\n",
    "    \n",
    "    # Dropping null\n",
    "    df_drop = df.dropna(subset = \"Job Code\")\n",
    "    \n",
    "    # Dropping cols\n",
    "    df_drop_col = df_drop[['Job Code','Reference','Empty','Cost Center','Empty2','Credit','Debit','Date','Date2','Date3','GL_account','False','Comments','Empty3']].set_index(\"Job Code\")\n",
    "    \n",
    "    # Saving as jnl\n",
    "    file_name_clean = re.sub(\"\\.xlsx\", \"\", file)\n",
    "    \n",
    "    # Saving to local\n",
    "    df_drop_col.to_csv(saved_path + file_name_clean, sep = \"|\", header = False)\n",
    "    \n",
    "    # Saving to G Drive\n",
    "    df_drop_col.to_csv(saved_path_final + file_name_clean, sep = \"|\", header = False)\n",
    "    \n",
    "    \n",
    "\n"
   ]
  },
  {
   "cell_type": "code",
   "execution_count": null,
   "id": "4bafbcb3-20a9-48b0-aaa5-50a26f05833d",
   "metadata": {},
   "outputs": [],
   "source": []
  }
 ],
 "metadata": {
  "kernelspec": {
   "display_name": "Python 3 (ipykernel)",
   "language": "python",
   "name": "python3"
  },
  "language_info": {
   "codemirror_mode": {
    "name": "ipython",
    "version": 3
   },
   "file_extension": ".py",
   "mimetype": "text/x-python",
   "name": "python",
   "nbconvert_exporter": "python",
   "pygments_lexer": "ipython3",
   "version": "3.9.13"
  }
 },
 "nbformat": 4,
 "nbformat_minor": 5
}
